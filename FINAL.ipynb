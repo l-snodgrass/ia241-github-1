{
 "cells": [
  {
   "cell_type": "markdown",
   "id": "8de8409b",
   "metadata": {},
   "source": [
    "# TUNISIA: COVID-19 DATA IN PYTHON\n",
    "### Data Source"
   ]
  },
  {
   "cell_type": "markdown",
   "id": "af49b9e9",
   "metadata": {},
   "source": [
    "![TUNISIA](https://atalayar.com/sites/default/files/styles/foto_/public/noticias/Atalayar_M%C3%A9dicos%20tunecinos%20coronavirus%20PORTADA.jpg?itok=EE7B__60)\n"
   ]
  },
  {
   "cell_type": "markdown",
   "id": "f9f430fa",
   "metadata": {},
   "source": [
    "Nurses in Tunisia during the COVID-19 crisis.\n",
    "\n",
    "### Author Information:\n",
    "- Laney Snodgrass\n",
    "- IA 241\n",
    "\n",
    "The data is downloaded from European Centre for Disease Prevention and Control. Upload the data to an S3 bucket, and import the necessary python libraries."
   ]
  },
  {
   "cell_type": "code",
   "execution_count": 116,
   "id": "37b3d0c9",
   "metadata": {},
   "outputs": [],
   "source": [
    "%matplotlib inline\n",
    "import pandas"
   ]
  },
  {
   "cell_type": "markdown",
   "id": "06216639",
   "metadata": {},
   "source": [
    "## Import Data from S3 Bucket"
   ]
  },
  {
   "cell_type": "code",
   "execution_count": 117,
   "id": "960e501d",
   "metadata": {},
   "outputs": [
    {
     "data": {
      "text/html": [
       "<div>\n",
       "<style scoped>\n",
       "    .dataframe tbody tr th:only-of-type {\n",
       "        vertical-align: middle;\n",
       "    }\n",
       "\n",
       "    .dataframe tbody tr th {\n",
       "        vertical-align: top;\n",
       "    }\n",
       "\n",
       "    .dataframe thead th {\n",
       "        text-align: right;\n",
       "    }\n",
       "</style>\n",
       "<table border=\"1\" class=\"dataframe\">\n",
       "  <thead>\n",
       "    <tr style=\"text-align: right;\">\n",
       "      <th></th>\n",
       "      <th>dateRep</th>\n",
       "      <th>day</th>\n",
       "      <th>month</th>\n",
       "      <th>year</th>\n",
       "      <th>cases</th>\n",
       "      <th>deaths</th>\n",
       "      <th>countriesAndTerritories</th>\n",
       "      <th>geoId</th>\n",
       "      <th>countryterritoryCode</th>\n",
       "      <th>popData2019</th>\n",
       "      <th>continentExp</th>\n",
       "      <th>Cumulative_number_for_14_days_of_COVID-19_cases_per_100000</th>\n",
       "    </tr>\n",
       "  </thead>\n",
       "  <tbody>\n",
       "    <tr>\n",
       "      <th>0</th>\n",
       "      <td>14/12/2020</td>\n",
       "      <td>14</td>\n",
       "      <td>12</td>\n",
       "      <td>2020</td>\n",
       "      <td>746</td>\n",
       "      <td>6</td>\n",
       "      <td>Afghanistan</td>\n",
       "      <td>AF</td>\n",
       "      <td>AFG</td>\n",
       "      <td>38041757.0</td>\n",
       "      <td>Asia</td>\n",
       "      <td>9.013779</td>\n",
       "    </tr>\n",
       "    <tr>\n",
       "      <th>1</th>\n",
       "      <td>13/12/2020</td>\n",
       "      <td>13</td>\n",
       "      <td>12</td>\n",
       "      <td>2020</td>\n",
       "      <td>298</td>\n",
       "      <td>9</td>\n",
       "      <td>Afghanistan</td>\n",
       "      <td>AF</td>\n",
       "      <td>AFG</td>\n",
       "      <td>38041757.0</td>\n",
       "      <td>Asia</td>\n",
       "      <td>7.052776</td>\n",
       "    </tr>\n",
       "    <tr>\n",
       "      <th>2</th>\n",
       "      <td>2020-12-12 00:00:00</td>\n",
       "      <td>12</td>\n",
       "      <td>12</td>\n",
       "      <td>2020</td>\n",
       "      <td>113</td>\n",
       "      <td>11</td>\n",
       "      <td>Afghanistan</td>\n",
       "      <td>AF</td>\n",
       "      <td>AFG</td>\n",
       "      <td>38041757.0</td>\n",
       "      <td>Asia</td>\n",
       "      <td>6.868768</td>\n",
       "    </tr>\n",
       "    <tr>\n",
       "      <th>3</th>\n",
       "      <td>2020-11-12 00:00:00</td>\n",
       "      <td>11</td>\n",
       "      <td>12</td>\n",
       "      <td>2020</td>\n",
       "      <td>63</td>\n",
       "      <td>10</td>\n",
       "      <td>Afghanistan</td>\n",
       "      <td>AF</td>\n",
       "      <td>AFG</td>\n",
       "      <td>38041757.0</td>\n",
       "      <td>Asia</td>\n",
       "      <td>7.134266</td>\n",
       "    </tr>\n",
       "    <tr>\n",
       "      <th>4</th>\n",
       "      <td>2020-10-12 00:00:00</td>\n",
       "      <td>10</td>\n",
       "      <td>12</td>\n",
       "      <td>2020</td>\n",
       "      <td>202</td>\n",
       "      <td>16</td>\n",
       "      <td>Afghanistan</td>\n",
       "      <td>AF</td>\n",
       "      <td>AFG</td>\n",
       "      <td>38041757.0</td>\n",
       "      <td>Asia</td>\n",
       "      <td>6.968658</td>\n",
       "    </tr>\n",
       "    <tr>\n",
       "      <th>5</th>\n",
       "      <td>2020-09-12 00:00:00</td>\n",
       "      <td>9</td>\n",
       "      <td>12</td>\n",
       "      <td>2020</td>\n",
       "      <td>135</td>\n",
       "      <td>13</td>\n",
       "      <td>Afghanistan</td>\n",
       "      <td>AF</td>\n",
       "      <td>AFG</td>\n",
       "      <td>38041757.0</td>\n",
       "      <td>Asia</td>\n",
       "      <td>6.963401</td>\n",
       "    </tr>\n",
       "    <tr>\n",
       "      <th>6</th>\n",
       "      <td>2020-08-12 00:00:00</td>\n",
       "      <td>8</td>\n",
       "      <td>12</td>\n",
       "      <td>2020</td>\n",
       "      <td>200</td>\n",
       "      <td>6</td>\n",
       "      <td>Afghanistan</td>\n",
       "      <td>AF</td>\n",
       "      <td>AFG</td>\n",
       "      <td>38041757.0</td>\n",
       "      <td>Asia</td>\n",
       "      <td>7.094835</td>\n",
       "    </tr>\n",
       "    <tr>\n",
       "      <th>7</th>\n",
       "      <td>2020-07-12 00:00:00</td>\n",
       "      <td>7</td>\n",
       "      <td>12</td>\n",
       "      <td>2020</td>\n",
       "      <td>210</td>\n",
       "      <td>26</td>\n",
       "      <td>Afghanistan</td>\n",
       "      <td>AF</td>\n",
       "      <td>AFG</td>\n",
       "      <td>38041757.0</td>\n",
       "      <td>Asia</td>\n",
       "      <td>7.215755</td>\n",
       "    </tr>\n",
       "    <tr>\n",
       "      <th>8</th>\n",
       "      <td>2020-06-12 00:00:00</td>\n",
       "      <td>6</td>\n",
       "      <td>12</td>\n",
       "      <td>2020</td>\n",
       "      <td>234</td>\n",
       "      <td>10</td>\n",
       "      <td>Afghanistan</td>\n",
       "      <td>AF</td>\n",
       "      <td>AFG</td>\n",
       "      <td>38041757.0</td>\n",
       "      <td>Asia</td>\n",
       "      <td>7.326160</td>\n",
       "    </tr>\n",
       "    <tr>\n",
       "      <th>9</th>\n",
       "      <td>2020-05-12 00:00:00</td>\n",
       "      <td>5</td>\n",
       "      <td>12</td>\n",
       "      <td>2020</td>\n",
       "      <td>235</td>\n",
       "      <td>18</td>\n",
       "      <td>Afghanistan</td>\n",
       "      <td>AF</td>\n",
       "      <td>AFG</td>\n",
       "      <td>38041757.0</td>\n",
       "      <td>Asia</td>\n",
       "      <td>7.115865</td>\n",
       "    </tr>\n",
       "  </tbody>\n",
       "</table>\n",
       "</div>"
      ],
      "text/plain": [
       "               dateRep  day  month  year  cases  deaths  \\\n",
       "0           14/12/2020   14     12  2020    746       6   \n",
       "1           13/12/2020   13     12  2020    298       9   \n",
       "2  2020-12-12 00:00:00   12     12  2020    113      11   \n",
       "3  2020-11-12 00:00:00   11     12  2020     63      10   \n",
       "4  2020-10-12 00:00:00   10     12  2020    202      16   \n",
       "5  2020-09-12 00:00:00    9     12  2020    135      13   \n",
       "6  2020-08-12 00:00:00    8     12  2020    200       6   \n",
       "7  2020-07-12 00:00:00    7     12  2020    210      26   \n",
       "8  2020-06-12 00:00:00    6     12  2020    234      10   \n",
       "9  2020-05-12 00:00:00    5     12  2020    235      18   \n",
       "\n",
       "  countriesAndTerritories geoId countryterritoryCode  popData2019  \\\n",
       "0             Afghanistan    AF                  AFG   38041757.0   \n",
       "1             Afghanistan    AF                  AFG   38041757.0   \n",
       "2             Afghanistan    AF                  AFG   38041757.0   \n",
       "3             Afghanistan    AF                  AFG   38041757.0   \n",
       "4             Afghanistan    AF                  AFG   38041757.0   \n",
       "5             Afghanistan    AF                  AFG   38041757.0   \n",
       "6             Afghanistan    AF                  AFG   38041757.0   \n",
       "7             Afghanistan    AF                  AFG   38041757.0   \n",
       "8             Afghanistan    AF                  AFG   38041757.0   \n",
       "9             Afghanistan    AF                  AFG   38041757.0   \n",
       "\n",
       "  continentExp  Cumulative_number_for_14_days_of_COVID-19_cases_per_100000  \n",
       "0         Asia                                           9.013779           \n",
       "1         Asia                                           7.052776           \n",
       "2         Asia                                           6.868768           \n",
       "3         Asia                                           7.134266           \n",
       "4         Asia                                           6.968658           \n",
       "5         Asia                                           6.963401           \n",
       "6         Asia                                           7.094835           \n",
       "7         Asia                                           7.215755           \n",
       "8         Asia                                           7.326160           \n",
       "9         Asia                                           7.115865           "
      ]
     },
     "execution_count": 117,
     "metadata": {},
     "output_type": "execute_result"
    }
   ],
   "source": [
    "df = pandas.read_excel('s3://ia241notebook-spring2022-snodgrass/covid_data.xls')\n",
    "df[:10]"
   ]
  },
  {
   "cell_type": "markdown",
   "id": "41a1f8d4",
   "metadata": {},
   "source": [
    "## List of Unique Countries"
   ]
  },
  {
   "cell_type": "code",
   "execution_count": 118,
   "id": "716e2b4a",
   "metadata": {
    "scrolled": true
   },
   "outputs": [
    {
     "data": {
      "text/plain": [
       "array(['Afghanistan', 'Albania', 'Algeria', 'Andorra', 'Angola',\n",
       "       'Anguilla', 'Antigua_and_Barbuda', 'Argentina', 'Armenia', 'Aruba',\n",
       "       'Australia', 'Austria', 'Azerbaijan', 'Bahamas', 'Bahrain',\n",
       "       'Bangladesh', 'Barbados', 'Belarus', 'Belgium', 'Belize', 'Benin',\n",
       "       'Bermuda', 'Bhutan', 'Bolivia',\n",
       "       'Bonaire, Saint Eustatius and Saba', 'Bosnia_and_Herzegovina',\n",
       "       'Botswana', 'Brazil', 'British_Virgin_Islands',\n",
       "       'Brunei_Darussalam', 'Bulgaria', 'Burkina_Faso', 'Burundi',\n",
       "       'Cambodia', 'Cameroon', 'Canada', 'Cape_Verde',\n",
       "       'Cases_on_an_international_conveyance_Japan', 'Cayman_Islands',\n",
       "       'Central_African_Republic', 'Chad', 'Chile', 'China', 'Colombia',\n",
       "       'Comoros', 'Congo', 'Costa_Rica', 'Cote_dIvoire', 'Croatia',\n",
       "       'Cuba', 'CuraÃ§ao', 'Cyprus', 'Czechia',\n",
       "       'Democratic_Republic_of_the_Congo', 'Denmark', 'Djibouti',\n",
       "       'Dominica', 'Dominican_Republic', 'Ecuador', 'Egypt',\n",
       "       'El_Salvador', 'Equatorial_Guinea', 'Eritrea', 'Estonia',\n",
       "       'Eswatini', 'Ethiopia', 'Falkland_Islands_(Malvinas)',\n",
       "       'Faroe_Islands', 'Fiji', 'Finland', 'France', 'French_Polynesia',\n",
       "       'Gabon', 'Gambia', 'Georgia', 'Germany', 'Ghana', 'Gibraltar',\n",
       "       'Greece', 'Greenland', 'Grenada', 'Guam', 'Guatemala', 'Guernsey',\n",
       "       'Guinea', 'Guinea_Bissau', 'Guyana', 'Haiti', 'Holy_See',\n",
       "       'Honduras', 'Hungary', 'Iceland', 'India', 'Indonesia', 'Iran',\n",
       "       'Iraq', 'Ireland', 'Isle_of_Man', 'Israel', 'Italy', 'Jamaica',\n",
       "       'Japan', 'Jersey', 'Jordan', 'Kazakhstan', 'Kenya', 'Kosovo',\n",
       "       'Kuwait', 'Kyrgyzstan', 'Laos', 'Latvia', 'Lebanon', 'Lesotho',\n",
       "       'Liberia', 'Libya', 'Liechtenstein', 'Lithuania', 'Luxembourg',\n",
       "       'Madagascar', 'Malawi', 'Malaysia', 'Maldives', 'Mali', 'Malta',\n",
       "       'Marshall_Islands', 'Mauritania', 'Mauritius', 'Mexico', 'Moldova',\n",
       "       'Monaco', 'Mongolia', 'Montenegro', 'Montserrat', 'Morocco',\n",
       "       'Mozambique', 'Myanmar', 'Namibia', 'Nepal', 'Netherlands',\n",
       "       'New_Caledonia', 'New_Zealand', 'Nicaragua', 'Niger', 'Nigeria',\n",
       "       'North_Macedonia', 'Northern_Mariana_Islands', 'Norway', 'Oman',\n",
       "       'Pakistan', 'Palestine', 'Panama', 'Papua_New_Guinea', 'Paraguay',\n",
       "       'Peru', 'Philippines', 'Poland', 'Portugal', 'Puerto_Rico',\n",
       "       'Qatar', 'Romania', 'Russia', 'Rwanda', 'Saint_Kitts_and_Nevis',\n",
       "       'Saint_Lucia', 'Saint_Vincent_and_the_Grenadines', 'San_Marino',\n",
       "       'Sao_Tome_and_Principe', 'Saudi_Arabia', 'Senegal', 'Serbia',\n",
       "       'Seychelles', 'Sierra_Leone', 'Singapore', 'Sint_Maarten',\n",
       "       'Slovakia', 'Slovenia', 'Solomon_Islands', 'Somalia',\n",
       "       'South_Africa', 'South_Korea', 'South_Sudan', 'Spain', 'Sri_Lanka',\n",
       "       'Sudan', 'Suriname', 'Sweden', 'Switzerland', 'Syria', 'Taiwan',\n",
       "       'Tajikistan', 'Thailand', 'Timor_Leste', 'Togo',\n",
       "       'Trinidad_and_Tobago', 'Tunisia', 'Turkey',\n",
       "       'Turks_and_Caicos_islands', 'Uganda', 'Ukraine',\n",
       "       'United_Arab_Emirates', 'United_Kingdom',\n",
       "       'United_Republic_of_Tanzania', 'United_States_of_America',\n",
       "       'United_States_Virgin_Islands', 'Uruguay', 'Uzbekistan', 'Vanuatu',\n",
       "       'Venezuela', 'Vietnam', 'Wallis_and_Futuna', 'Western_Sahara',\n",
       "       'Yemen', 'Zambia', 'Zimbabwe'], dtype=object)"
      ]
     },
     "execution_count": 118,
     "metadata": {},
     "output_type": "execute_result"
    }
   ],
   "source": [
    "pandas.unique(df['countriesAndTerritories'])"
   ]
  },
  {
   "cell_type": "markdown",
   "id": "05b7adbc",
   "metadata": {},
   "source": [
    "## Tunisian Data"
   ]
  },
  {
   "cell_type": "code",
   "execution_count": 119,
   "id": "b1c16bc0",
   "metadata": {},
   "outputs": [
    {
     "data": {
      "text/html": [
       "<div>\n",
       "<style scoped>\n",
       "    .dataframe tbody tr th:only-of-type {\n",
       "        vertical-align: middle;\n",
       "    }\n",
       "\n",
       "    .dataframe tbody tr th {\n",
       "        vertical-align: top;\n",
       "    }\n",
       "\n",
       "    .dataframe thead th {\n",
       "        text-align: right;\n",
       "    }\n",
       "</style>\n",
       "<table border=\"1\" class=\"dataframe\">\n",
       "  <thead>\n",
       "    <tr style=\"text-align: right;\">\n",
       "      <th></th>\n",
       "      <th>dateRep</th>\n",
       "      <th>day</th>\n",
       "      <th>month</th>\n",
       "      <th>year</th>\n",
       "      <th>cases</th>\n",
       "      <th>deaths</th>\n",
       "      <th>countriesAndTerritories</th>\n",
       "      <th>geoId</th>\n",
       "      <th>countryterritoryCode</th>\n",
       "      <th>popData2019</th>\n",
       "      <th>continentExp</th>\n",
       "      <th>Cumulative_number_for_14_days_of_COVID-19_cases_per_100000</th>\n",
       "    </tr>\n",
       "  </thead>\n",
       "  <tbody>\n",
       "    <tr>\n",
       "      <th>56668</th>\n",
       "      <td>14/12/2020</td>\n",
       "      <td>14</td>\n",
       "      <td>12</td>\n",
       "      <td>2020</td>\n",
       "      <td>968</td>\n",
       "      <td>58</td>\n",
       "      <td>Tunisia</td>\n",
       "      <td>TN</td>\n",
       "      <td>TUN</td>\n",
       "      <td>11694721.0</td>\n",
       "      <td>Africa</td>\n",
       "      <td>129.203595</td>\n",
       "    </tr>\n",
       "    <tr>\n",
       "      <th>56669</th>\n",
       "      <td>13/12/2020</td>\n",
       "      <td>13</td>\n",
       "      <td>12</td>\n",
       "      <td>2020</td>\n",
       "      <td>1289</td>\n",
       "      <td>35</td>\n",
       "      <td>Tunisia</td>\n",
       "      <td>TN</td>\n",
       "      <td>TUN</td>\n",
       "      <td>11694721.0</td>\n",
       "      <td>Africa</td>\n",
       "      <td>131.794508</td>\n",
       "    </tr>\n",
       "    <tr>\n",
       "      <th>56670</th>\n",
       "      <td>2020-12-12 00:00:00</td>\n",
       "      <td>12</td>\n",
       "      <td>12</td>\n",
       "      <td>2020</td>\n",
       "      <td>1290</td>\n",
       "      <td>43</td>\n",
       "      <td>Tunisia</td>\n",
       "      <td>TN</td>\n",
       "      <td>TUN</td>\n",
       "      <td>11694721.0</td>\n",
       "      <td>Africa</td>\n",
       "      <td>131.118989</td>\n",
       "    </tr>\n",
       "    <tr>\n",
       "      <th>56671</th>\n",
       "      <td>2020-11-12 00:00:00</td>\n",
       "      <td>11</td>\n",
       "      <td>12</td>\n",
       "      <td>2020</td>\n",
       "      <td>958</td>\n",
       "      <td>41</td>\n",
       "      <td>Tunisia</td>\n",
       "      <td>TN</td>\n",
       "      <td>TUN</td>\n",
       "      <td>11694721.0</td>\n",
       "      <td>Africa</td>\n",
       "      <td>131.161744</td>\n",
       "    </tr>\n",
       "    <tr>\n",
       "      <th>56672</th>\n",
       "      <td>2020-10-12 00:00:00</td>\n",
       "      <td>10</td>\n",
       "      <td>12</td>\n",
       "      <td>2020</td>\n",
       "      <td>1411</td>\n",
       "      <td>49</td>\n",
       "      <td>Tunisia</td>\n",
       "      <td>TN</td>\n",
       "      <td>TUN</td>\n",
       "      <td>11694721.0</td>\n",
       "      <td>Africa</td>\n",
       "      <td>132.957426</td>\n",
       "    </tr>\n",
       "    <tr>\n",
       "      <th>56673</th>\n",
       "      <td>2020-09-12 00:00:00</td>\n",
       "      <td>9</td>\n",
       "      <td>12</td>\n",
       "      <td>2020</td>\n",
       "      <td>1116</td>\n",
       "      <td>72</td>\n",
       "      <td>Tunisia</td>\n",
       "      <td>TN</td>\n",
       "      <td>TUN</td>\n",
       "      <td>11694721.0</td>\n",
       "      <td>Africa</td>\n",
       "      <td>130.246801</td>\n",
       "    </tr>\n",
       "    <tr>\n",
       "      <th>56674</th>\n",
       "      <td>2020-08-12 00:00:00</td>\n",
       "      <td>8</td>\n",
       "      <td>12</td>\n",
       "      <td>2020</td>\n",
       "      <td>327</td>\n",
       "      <td>35</td>\n",
       "      <td>Tunisia</td>\n",
       "      <td>TN</td>\n",
       "      <td>TUN</td>\n",
       "      <td>11694721.0</td>\n",
       "      <td>Africa</td>\n",
       "      <td>129.408816</td>\n",
       "    </tr>\n",
       "    <tr>\n",
       "      <th>56675</th>\n",
       "      <td>2020-07-12 00:00:00</td>\n",
       "      <td>7</td>\n",
       "      <td>12</td>\n",
       "      <td>2020</td>\n",
       "      <td>1011</td>\n",
       "      <td>35</td>\n",
       "      <td>Tunisia</td>\n",
       "      <td>TN</td>\n",
       "      <td>TUN</td>\n",
       "      <td>11694721.0</td>\n",
       "      <td>Africa</td>\n",
       "      <td>130.751302</td>\n",
       "    </tr>\n",
       "    <tr>\n",
       "      <th>56676</th>\n",
       "      <td>2020-06-12 00:00:00</td>\n",
       "      <td>6</td>\n",
       "      <td>12</td>\n",
       "      <td>2020</td>\n",
       "      <td>1091</td>\n",
       "      <td>45</td>\n",
       "      <td>Tunisia</td>\n",
       "      <td>TN</td>\n",
       "      <td>TUN</td>\n",
       "      <td>11694721.0</td>\n",
       "      <td>Africa</td>\n",
       "      <td>132.709451</td>\n",
       "    </tr>\n",
       "    <tr>\n",
       "      <th>56677</th>\n",
       "      <td>2020-05-12 00:00:00</td>\n",
       "      <td>5</td>\n",
       "      <td>12</td>\n",
       "      <td>2020</td>\n",
       "      <td>2620</td>\n",
       "      <td>122</td>\n",
       "      <td>Tunisia</td>\n",
       "      <td>TN</td>\n",
       "      <td>TUN</td>\n",
       "      <td>11694721.0</td>\n",
       "      <td>Africa</td>\n",
       "      <td>133.692800</td>\n",
       "    </tr>\n",
       "  </tbody>\n",
       "</table>\n",
       "</div>"
      ],
      "text/plain": [
       "                   dateRep  day  month  year  cases  deaths  \\\n",
       "56668           14/12/2020   14     12  2020    968      58   \n",
       "56669           13/12/2020   13     12  2020   1289      35   \n",
       "56670  2020-12-12 00:00:00   12     12  2020   1290      43   \n",
       "56671  2020-11-12 00:00:00   11     12  2020    958      41   \n",
       "56672  2020-10-12 00:00:00   10     12  2020   1411      49   \n",
       "56673  2020-09-12 00:00:00    9     12  2020   1116      72   \n",
       "56674  2020-08-12 00:00:00    8     12  2020    327      35   \n",
       "56675  2020-07-12 00:00:00    7     12  2020   1011      35   \n",
       "56676  2020-06-12 00:00:00    6     12  2020   1091      45   \n",
       "56677  2020-05-12 00:00:00    5     12  2020   2620     122   \n",
       "\n",
       "      countriesAndTerritories geoId countryterritoryCode  popData2019  \\\n",
       "56668                 Tunisia    TN                  TUN   11694721.0   \n",
       "56669                 Tunisia    TN                  TUN   11694721.0   \n",
       "56670                 Tunisia    TN                  TUN   11694721.0   \n",
       "56671                 Tunisia    TN                  TUN   11694721.0   \n",
       "56672                 Tunisia    TN                  TUN   11694721.0   \n",
       "56673                 Tunisia    TN                  TUN   11694721.0   \n",
       "56674                 Tunisia    TN                  TUN   11694721.0   \n",
       "56675                 Tunisia    TN                  TUN   11694721.0   \n",
       "56676                 Tunisia    TN                  TUN   11694721.0   \n",
       "56677                 Tunisia    TN                  TUN   11694721.0   \n",
       "\n",
       "      continentExp  Cumulative_number_for_14_days_of_COVID-19_cases_per_100000  \n",
       "56668       Africa                                         129.203595           \n",
       "56669       Africa                                         131.794508           \n",
       "56670       Africa                                         131.118989           \n",
       "56671       Africa                                         131.161744           \n",
       "56672       Africa                                         132.957426           \n",
       "56673       Africa                                         130.246801           \n",
       "56674       Africa                                         129.408816           \n",
       "56675       Africa                                         130.751302           \n",
       "56676       Africa                                         132.709451           \n",
       "56677       Africa                                         133.692800           "
      ]
     },
     "execution_count": 119,
     "metadata": {},
     "output_type": "execute_result"
    }
   ],
   "source": [
    "tunisia_data = df.loc[ df['countriesAndTerritories']=='Tunisia' ]\n",
    "tunisia_data[:10]"
   ]
  },
  {
   "cell_type": "markdown",
   "id": "17fdf454",
   "metadata": {},
   "source": [
    "# 1. The Sum of Case Numbers per Month "
   ]
  },
  {
   "cell_type": "markdown",
   "id": "7cf2ec29",
   "metadata": {},
   "source": [
    "### This section displays the number of COVID-19 cases per month. It is later shown as a line graph."
   ]
  },
  {
   "cell_type": "code",
   "execution_count": 120,
   "id": "31b98c7c",
   "metadata": {
    "scrolled": true
   },
   "outputs": [
    {
     "name": "stdout",
     "output_type": "stream",
     "text": [
      "month\n",
      "1         9799\n",
      "2        75422\n",
      "3       723738\n",
      "4      2339594\n",
      "5      2891996\n",
      "6      4249525\n",
      "7      7067524\n",
      "8      7963836\n",
      "9      8456248\n",
      "10    11949041\n",
      "11    17134026\n",
      "12     8642865\n",
      "Name: cases, dtype: int64\n"
     ]
    }
   ],
   "source": [
    "sum_month = df.groupby('month').sum()['cases']\n",
    "print(sum_month)"
   ]
  },
  {
   "cell_type": "code",
   "execution_count": 121,
   "id": "e38371e4",
   "metadata": {
    "scrolled": false
   },
   "outputs": [
    {
     "data": {
      "text/plain": [
       "<AxesSubplot:xlabel='month'>"
      ]
     },
     "execution_count": 121,
     "metadata": {},
     "output_type": "execute_result"
    },
    {
     "data": {
      "image/png": "[encoded data removed]",
      "text/plain": [
       "<Figure size 432x288 with 1 Axes>"
      ]
     },
     "metadata": {
      "needs_background": "light"
     },
     "output_type": "display_data"
    }
   ],
   "source": [
    "sum_month.plot.bar()"
   ]
  },
  {
   "cell_type": "markdown",
   "id": "8d0dc5a9",
   "metadata": {},
   "source": [
    "# 2a. Days with the Highest Death Rate\n",
    "\n",
    "### This section displays the days that has the highest COVID-19 related death rate. It later shows a scatter plot displaying deaths as well as a line chart."
   ]
  },
  {
   "cell_type": "code",
   "execution_count": 122,
   "id": "33258cbe",
   "metadata": {
    "scrolled": true
   },
   "outputs": [
    {
     "data": {
      "text/plain": [
       "<AxesSubplot:xlabel='cases', ylabel='deaths'>"
      ]
     },
     "execution_count": 122,
     "metadata": {},
     "output_type": "execute_result"
    },
    {
     "data": {
      "image/png": "[encoded data removed]",
      "text/plain": [
       "<Figure size 432x288 with 2 Axes>"
      ]
     },
     "metadata": {
      "needs_background": "light"
     },
     "output_type": "display_data"
    }
   ],
   "source": [
    "tunisia_data.plot.scatter(x='cases',y='deaths',c='month')"
   ]
  },
  {
   "cell_type": "code",
   "execution_count": 123,
   "id": "ded4a758",
   "metadata": {
    "scrolled": true
   },
   "outputs": [
    {
     "data": {
      "text/plain": [
       "<AxesSubplot:xlabel='dateRep'>"
      ]
     },
     "execution_count": 123,
     "metadata": {},
     "output_type": "execute_result"
    },
    {
     "data": {
      "image/png": "[encoded data removed]",
      "text/plain": [
       "<Figure size 432x288 with 1 Axes>"
      ]
     },
     "metadata": {
      "needs_background": "light"
     },
     "output_type": "display_data"
    }
   ],
   "source": [
    "sum_deaths_per_day = tunisia_data.groupby('dateRep').sum()['deaths']\n",
    "sum_deaths_per_day.plot()"
   ]
  },
  {
   "cell_type": "markdown",
   "id": "bbaddc76",
   "metadata": {},
   "source": [
    "# 2b. Month with the Highest Death Count"
   ]
  },
  {
   "cell_type": "markdown",
   "id": "504d4b0b",
   "metadata": {},
   "source": [
    "### This section displays the month that has the highest COVID-19 related death rate with a bar graph."
   ]
  },
  {
   "cell_type": "code",
   "execution_count": 124,
   "id": "573ccd59",
   "metadata": {
    "scrolled": true
   },
   "outputs": [
    {
     "name": "stdout",
     "output_type": "stream",
     "text": [
      "month\n",
      "1        213\n",
      "2       2708\n",
      "3      35814\n",
      "4     189180\n",
      "5     140142\n",
      "6     134069\n",
      "7     166195\n",
      "8     178618\n",
      "9     162169\n",
      "10    181054\n",
      "11    271086\n",
      "12    151585\n",
      "Name: deaths, dtype: int64\n"
     ]
    }
   ],
   "source": [
    "month_data = df.groupby('month').sum()['deaths']\n",
    "month_data.sort_index()\n",
    "print(month_data)"
   ]
  },
  {
   "cell_type": "code",
   "execution_count": 125,
   "id": "23f047d6",
   "metadata": {
    "scrolled": true
   },
   "outputs": [
    {
     "data": {
      "text/plain": [
       "<AxesSubplot:xlabel='month'>"
      ]
     },
     "execution_count": 125,
     "metadata": {},
     "output_type": "execute_result"
    },
    {
     "data": {
      "image/png": "[encoded data removed]",
      "text/plain": [
       "<Figure size 432x288 with 1 Axes>"
      ]
     },
     "metadata": {
      "needs_background": "light"
     },
     "output_type": "display_data"
    }
   ],
   "source": [
    "month_data.plot.bar()"
   ]
  },
  {
   "cell_type": "code",
   "execution_count": 126,
   "id": "48e71d2e",
   "metadata": {
    "scrolled": true
   },
   "outputs": [
    {
     "name": "stdout",
     "output_type": "stream",
     "text": [
      "November has the highest death count at 271086 deaths\n"
     ]
    }
   ],
   "source": [
    "month_data = df.groupby('month').sum()['deaths']\n",
    "print(\"November has the highest death count at\", month_data.max(),\"deaths\")"
   ]
  },
  {
   "cell_type": "markdown",
   "id": "b83c9766",
   "metadata": {},
   "source": [
    "# 2c. Month with the Lowest Death Count\n",
    "\n",
    "### This section displays the month that has the lowest COVID-19 related death rate with a bar graph."
   ]
  },
  {
   "cell_type": "code",
   "execution_count": 127,
   "id": "9595fb35",
   "metadata": {},
   "outputs": [
    {
     "name": "stdout",
     "output_type": "stream",
     "text": [
      "month\n",
      "1        213\n",
      "2       2708\n",
      "3      35814\n",
      "4     189180\n",
      "5     140142\n",
      "6     134069\n",
      "7     166195\n",
      "8     178618\n",
      "9     162169\n",
      "10    181054\n",
      "11    271086\n",
      "12    151585\n",
      "Name: deaths, dtype: int64\n"
     ]
    },
    {
     "data": {
      "image/png": "[encoded data removed]",
      "text/plain": [
       "<Figure size 432x288 with 1 Axes>"
      ]
     },
     "metadata": {
      "needs_background": "light"
     },
     "output_type": "display_data"
    }
   ],
   "source": [
    "month_data = df.groupby('month').sum()['deaths']\n",
    "month_data.sort_index()\n",
    "print(month_data)\n",
    "\n",
    "month_data.plot.bar()\n",
    "\n",
    "month_data = df.groupby('month').sum()['deaths']"
   ]
  },
  {
   "cell_type": "code",
   "execution_count": 128,
   "id": "aab5f12f",
   "metadata": {},
   "outputs": [
    {
     "name": "stdout",
     "output_type": "stream",
     "text": [
      "January has the lowest death count at 213 deaths\n"
     ]
    }
   ],
   "source": [
    "print(\"January has the lowest death count at\", month_data.min(),\"deaths\")"
   ]
  },
  {
   "cell_type": "markdown",
   "id": "fa6a7d00",
   "metadata": {},
   "source": [
    "# 3. Mean Number of Cases\n",
    "\n",
    "### This section displays the mean number of COVID-19 related cases rate with a bar graph."
   ]
  },
  {
   "cell_type": "code",
   "execution_count": 129,
   "id": "b8fe3cce",
   "metadata": {},
   "outputs": [],
   "source": [
    "from statistics import mean"
   ]
  },
  {
   "cell_type": "code",
   "execution_count": 130,
   "id": "4f4bdfef",
   "metadata": {},
   "outputs": [
    {
     "name": "stdout",
     "output_type": "stream",
     "text": [
      "month\n",
      "1         9799\n",
      "2        75422\n",
      "3       723738\n",
      "4      2339594\n",
      "5      2891996\n",
      "6      4249525\n",
      "7      7067524\n",
      "8      7963836\n",
      "9      8456248\n",
      "10    11949041\n",
      "11    17134026\n",
      "12     8642865\n",
      "Name: cases, dtype: int64\n"
     ]
    }
   ],
   "source": [
    "sum_month = df.groupby('month').sum()['cases']\n",
    "print(sum_month)"
   ]
  },
  {
   "cell_type": "code",
   "execution_count": 131,
   "id": "c48e9235",
   "metadata": {},
   "outputs": [
    {
     "name": "stdout",
     "output_type": "stream",
     "text": [
      "The average number of COVID-19 cases is 5958634.5\n"
     ]
    }
   ],
   "source": [
    "def Average(lst):\n",
    "    return mean(lst)\n",
    "  \n",
    "lst = sum_month\n",
    "average = Average(lst)\n",
    "  \n",
    "print(\"The average number of COVID-19 cases is\", round(average, 2))"
   ]
  },
  {
   "cell_type": "markdown",
   "id": "1da27f6f",
   "metadata": {},
   "source": [
    "## Conclusion and Limitations:\n",
    "\n",
    "Tunisia's worst month regarding COVID-19 was November of 2020, while their 'best' was January. We can conclude this is because COVID was not as prevalent at that time. Charts were added to  illustrate the data in a visually appealing way. To improve this project, I would figure out how to stagger the information under 2a's line chart, as I have no idea how to alter charts."
   ]
  }
 ],
 "metadata": {
  "kernelspec": {
   "display_name": "conda_python3",
   "language": "python",
   "name": "conda_python3"
  },
  "language_info": {
   "codemirror_mode": {
    "name": "ipython",
    "version": 3
   },
   "file_extension": ".py",
   "mimetype": "text/x-python",
   "name": "python",
   "nbconvert_exporter": "python",
   "pygments_lexer": "ipython3",
   "version": "3.6.13"
  }
 },
 "nbformat": 4,
 "nbformat_minor": 5
}
